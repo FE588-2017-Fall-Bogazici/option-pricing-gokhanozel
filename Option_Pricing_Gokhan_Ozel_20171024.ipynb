{
 "cells": [
  {
   "cell_type": "code",
   "execution_count": 35,
   "metadata": {},
   "outputs": [
    {
     "name": "stdout",
     "output_type": "stream",
     "text": [
      "Max Underlying Price is $ 102.51\n",
      "Min Underlying Price is $ 97.69\n",
      "Strike Price is $ 99.57\n",
      "Call Option Price is $ 0.0\n",
      "Put Option Price is $ 11.05\n"
     ]
    }
   ],
   "source": [
    "#Lookback Option Pricing\n",
    "\n",
    "import numpy as np\n",
    "import math\n",
    "\n",
    "r = 0.05\n",
    "S0 = 100\n",
    "K = 110\n",
    "sigma = 0.04\n",
    "T=2\n",
    "N=100\n",
    "EPOCH=1000\n",
    "\n",
    "C=0\n",
    "P=0\n",
    "Wt=0\n",
    "StArray=[]\n",
    "\n",
    "for i in range(EPOCH):\n",
    "    for i in range(N):\n",
    "        Wt= np.random.randn()*np.sqrt(T/N)\n",
    "        St = S0* np.exp((r-0.5*sigma**2)*(T/N)+sigma*Wt)\n",
    "        StArray.append(St)\n",
    "\n",
    "    C += np.exp(-r*T)*max(0,(max(StArray)-K))\n",
    "    P += np.exp(-r*T)*max(0,(K-min(StArray)))\n",
    "\n",
    "Price_Call = C/EPOCH\n",
    "Price_Put = P/EPOCH\n",
    "\n",
    "print('Max Underlying Price is $',round(max(StArray),2))\n",
    "print('Min Underlying Price is $', round(min(StArray),2))\n",
    "print('Strike Price is $',round(St,2))\n",
    "print('Call Option Price is $',round(Price_Call,2))\n",
    "print('Put Option Price is $',round(Price_Put,2))"
   ]
  },
  {
   "cell_type": "code",
   "execution_count": 36,
   "metadata": {},
   "outputs": [
    {
     "name": "stdout",
     "output_type": "stream",
     "text": [
      "Last Underlying Price is $ 99.9\n",
      "Max Underlying Price is $ 102.23\n",
      "Min Underlying Price is $ 98.07\n",
      "Strike Price is $ 99.9\n",
      "Call Option Price is $ 1.83\n",
      "Put Option Price is $ 1.88\n"
     ]
    }
   ],
   "source": [
    "#Floating Lookback Option Pricing\n",
    "\n",
    "import numpy as np\n",
    "\n",
    "r = 0.05\n",
    "s0 = 100\n",
    "K = 110\n",
    "sigma = 0.05\n",
    "T=1\n",
    "N=100\n",
    "EPOCH=1000\n",
    "\n",
    "C=0\n",
    "P=0\n",
    "Wt=0\n",
    "St=0\n",
    "StArray=[]\n",
    "\n",
    "for i in range(EPOCH):\n",
    "    for i in range(N):\n",
    "        Wt= np.random.randn()*np.sqrt(T/N)\n",
    "        St = S0* np.exp((r-1/2*sigma**2)*(T/N)+sigma*Wt)\n",
    "        StArray.append(St)\n",
    "\n",
    "    C += np.exp(-r*T)*max(0,(St-min(StArray)))\n",
    "    P += np.exp(-r*T)*max(0,(max(StArray)-St))\n",
    "\n",
    "Price_Call = C/EPOCH\n",
    "Price_Put = P/EPOCH\n",
    "\n",
    "print('Last Underlying Price is $',round(St,2))\n",
    "print('Max Underlying Price is $',round(max(StArray),2))\n",
    "print('Min Underlying Price is $',round(min(StArray),2))\n",
    "print('Strike Price is $',round(St,2))\n",
    "print('Call Option Price is $',round(Price_Call,2))\n",
    "print('Put Option Price is $',round(Price_Put,2))"
   ]
  }
 ],
 "metadata": {
  "kernelspec": {
   "display_name": "Python 3",
   "language": "python",
   "name": "python3"
  },
  "language_info": {
   "codemirror_mode": {
    "name": "ipython",
    "version": 3
   },
   "file_extension": ".py",
   "mimetype": "text/x-python",
   "name": "python",
   "nbconvert_exporter": "python",
   "pygments_lexer": "ipython3",
   "version": "3.6.1"
  }
 },
 "nbformat": 4,
 "nbformat_minor": 2
}
